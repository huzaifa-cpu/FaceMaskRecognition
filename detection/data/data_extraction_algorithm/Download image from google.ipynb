{
 "cells": [
  {
   "cell_type": "markdown",
   "id": "dfb3d3c3",
   "metadata": {},
   "source": [
    "# Installing"
   ]
  },
  {
   "cell_type": "code",
   "execution_count": 1,
   "id": "27f13e71",
   "metadata": {},
   "outputs": [
    {
     "name": "stdout",
     "output_type": "stream",
     "text": [
      "Collecting simple_image_download\n",
      "  Using cached simple_image_download-0.4-py3-none-any.whl (4.9 kB)\n",
      "Requirement already satisfied: requests in c:\\users\\hp\\anaconda3\\lib\\site-packages (from simple_image_download) (2.25.1)\n",
      "Requirement already satisfied: progressbar in c:\\users\\hp\\anaconda3\\lib\\site-packages (from simple_image_download) (2.5)\n",
      "Requirement already satisfied: python-magic-bin==0.4.14 in c:\\users\\hp\\anaconda3\\lib\\site-packages (from simple_image_download) (0.4.14)\n",
      "Requirement already satisfied: urllib3<1.27,>=1.21.1 in c:\\users\\hp\\anaconda3\\lib\\site-packages (from requests->simple_image_download) (1.26.4)\n",
      "Requirement already satisfied: certifi>=2017.4.17 in c:\\users\\hp\\anaconda3\\lib\\site-packages (from requests->simple_image_download) (2020.12.5)\n",
      "Requirement already satisfied: idna<3,>=2.5 in c:\\users\\hp\\anaconda3\\lib\\site-packages (from requests->simple_image_download) (2.10)\n",
      "Requirement already satisfied: chardet<5,>=3.0.2 in c:\\users\\hp\\anaconda3\\lib\\site-packages (from requests->simple_image_download) (4.0.0)\n",
      "Installing collected packages: simple-image-download\n",
      "Successfully installed simple-image-download-0.4\n",
      "Note: you may need to restart the kernel to use updated packages.\n"
     ]
    },
    {
     "name": "stderr",
     "output_type": "stream",
     "text": [
      "WARNING: Ignoring invalid distribution -rotobuf (c:\\users\\hp\\anaconda3\\lib\\site-packages)\n",
      "WARNING: Ignoring invalid distribution -rotobuf (c:\\users\\hp\\anaconda3\\lib\\site-packages)\n",
      "WARNING: Ignoring invalid distribution -rotobuf (c:\\users\\hp\\anaconda3\\lib\\site-packages)\n",
      "WARNING: Ignoring invalid distribution -rotobuf (c:\\users\\hp\\anaconda3\\lib\\site-packages)\n",
      "WARNING: Ignoring invalid distribution -rotobuf (c:\\users\\hp\\anaconda3\\lib\\site-packages)\n",
      "WARNING: Ignoring invalid distribution -rotobuf (c:\\users\\hp\\anaconda3\\lib\\site-packages)\n"
     ]
    }
   ],
   "source": [
    "pip install simple_image_download"
   ]
  },
  {
   "cell_type": "markdown",
   "id": "0527962b",
   "metadata": {},
   "source": [
    "# Import"
   ]
  },
  {
   "cell_type": "code",
   "execution_count": 1,
   "id": "2f53c7fa",
   "metadata": {},
   "outputs": [],
   "source": [
    "from simple_image_download import simple_image_download as simp"
   ]
  },
  {
   "cell_type": "markdown",
   "id": "1dc42cce",
   "metadata": {},
   "source": [
    "# Download image"
   ]
  },
  {
   "cell_type": "code",
   "execution_count": 2,
   "id": "e8e27c85",
   "metadata": {},
   "outputs": [
    {
     "name": "stderr",
     "output_type": "stream",
     "text": [
      "[========================================================================] 100%\n"
     ]
    }
   ],
   "source": [
    "from simple_image_download import simple_image_download as simp\n",
    "\n",
    "response = simp.simple_image_download\n",
    "\n",
    "response().download(keywords = \"person webcam images\" ,limit = 50 )"
   ]
  }
 ],
 "metadata": {
  "kernelspec": {
   "display_name": "Python 3",
   "language": "python",
   "name": "python3"
  },
  "language_info": {
   "codemirror_mode": {
    "name": "ipython",
    "version": 3
   },
   "file_extension": ".py",
   "mimetype": "text/x-python",
   "name": "python",
   "nbconvert_exporter": "python",
   "pygments_lexer": "ipython3",
   "version": "3.8.8"
  }
 },
 "nbformat": 4,
 "nbformat_minor": 5
}
